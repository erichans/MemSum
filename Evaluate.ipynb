{
 "cells": [
  {
   "cell_type": "code",
   "execution_count": 1,
   "id": "4d196a07-048e-47d3-952f-14919f179077",
   "metadata": {},
   "outputs": [],
   "source": [
    "from summarizers import MemSum\n",
    "from tqdm import tqdm\n",
    "from rouge_score import rouge_scorer\n",
    "import json\n",
    "import numpy as np"
   ]
  },
  {
   "cell_type": "code",
   "execution_count": 2,
   "id": "91e5054c-7458-477d-91b3-f652f1a822b0",
   "metadata": {},
   "outputs": [
    {
     "name": "stdout",
     "output_type": "stream",
     "text": [
      "glove_s300.bin\tunigram_embeddings_200dim.pkl\n",
      "glove_s300.txt\tvocabulary_200dim.pkl\n"
     ]
    }
   ],
   "source": [
    "!ls model/glove"
   ]
  },
  {
   "cell_type": "code",
   "execution_count": null,
   "id": "a79509b5-f0fb-4559-ae52-3e78b912f633",
   "metadata": {},
   "outputs": [],
   "source": [
    "rouge_cal = rouge_scorer.RougeScorer(['rouge1','rouge2', 'rougeLsum'], use_stemmer=True)\n",
    "\n",
    "memsum_pubmed = MemSum('mo, \n",
    "                  \"model/glove/vocabulary_200dim.pkl\", \n",
    "                  gpu = 0 ,  max_doc_len = 500  )\n"
   ]
  }
 ],
 "metadata": {
  "kernelspec": {
   "display_name": "Python 3 (ipykernel)",
   "language": "python",
   "name": "python3"
  },
  "language_info": {
   "codemirror_mode": {
    "name": "ipython",
    "version": 3
   },
   "file_extension": ".py",
   "mimetype": "text/x-python",
   "name": "python",
   "nbconvert_exporter": "python",
   "pygments_lexer": "ipython3",
   "version": "3.9.5"
  }
 },
 "nbformat": 4,
 "nbformat_minor": 5
}
